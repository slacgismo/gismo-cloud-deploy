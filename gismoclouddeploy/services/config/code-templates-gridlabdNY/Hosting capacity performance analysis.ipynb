{
 "cells": [
  {
   "cell_type": "code",
   "execution_count": 1,
   "id": "2d5c13b5",
   "metadata": {},
   "outputs": [],
   "source": [
    "import pandas"
   ]
  },
  {
   "cell_type": "code",
   "execution_count": 37,
   "id": "7da76a8f",
   "metadata": {},
   "outputs": [],
   "source": [
    "data = pandas.read_csv(\"hosting_capacity.csv\",index_col=[0,1]).unstack(\"der_value\").dropna(axis=0)"
   ]
  },
  {
   "cell_type": "code",
   "execution_count": 38,
   "id": "312d5c19",
   "metadata": {},
   "outputs": [
    {
     "data": {
      "text/html": [
       "<div>\n",
       "<style scoped>\n",
       "    .dataframe tbody tr th:only-of-type {\n",
       "        vertical-align: middle;\n",
       "    }\n",
       "\n",
       "    .dataframe tbody tr th {\n",
       "        vertical-align: top;\n",
       "    }\n",
       "\n",
       "    .dataframe thead tr th {\n",
       "        text-align: left;\n",
       "    }\n",
       "\n",
       "    .dataframe thead tr:last-of-type th {\n",
       "        text-align: right;\n",
       "    }\n",
       "</style>\n",
       "<table border=\"1\" class=\"dataframe\">\n",
       "  <thead>\n",
       "    <tr>\n",
       "      <th></th>\n",
       "      <th colspan=\"2\" halign=\"left\">node_count</th>\n",
       "      <th colspan=\"2\" halign=\"left\">link_count</th>\n",
       "      <th colspan=\"2\" halign=\"left\">load_count</th>\n",
       "      <th colspan=\"2\" halign=\"left\">runtime</th>\n",
       "    </tr>\n",
       "    <tr>\n",
       "      <th>der_value</th>\n",
       "      <th>0 kW</th>\n",
       "      <th>10 kW</th>\n",
       "      <th>0 kW</th>\n",
       "      <th>10 kW</th>\n",
       "      <th>0 kW</th>\n",
       "      <th>10 kW</th>\n",
       "      <th>0 kW</th>\n",
       "      <th>10 kW</th>\n",
       "    </tr>\n",
       "    <tr>\n",
       "      <th>feeder</th>\n",
       "      <th></th>\n",
       "      <th></th>\n",
       "      <th></th>\n",
       "      <th></th>\n",
       "      <th></th>\n",
       "      <th></th>\n",
       "      <th></th>\n",
       "      <th></th>\n",
       "    </tr>\n",
       "  </thead>\n",
       "  <tbody>\n",
       "    <tr>\n",
       "      <th>feeder_NY_01/NY_01_12161.glm</th>\n",
       "      <td>125.0</td>\n",
       "      <td>125.0</td>\n",
       "      <td>111.0</td>\n",
       "      <td>111.0</td>\n",
       "      <td>12.0</td>\n",
       "      <td>12.0</td>\n",
       "      <td>0.378</td>\n",
       "      <td>0.525</td>\n",
       "    </tr>\n",
       "    <tr>\n",
       "      <th>feeder_NY_01/NY_01_12261.glm</th>\n",
       "      <td>1147.0</td>\n",
       "      <td>1147.0</td>\n",
       "      <td>209.0</td>\n",
       "      <td>209.0</td>\n",
       "      <td>937.0</td>\n",
       "      <td>937.0</td>\n",
       "      <td>0.628</td>\n",
       "      <td>1.601</td>\n",
       "    </tr>\n",
       "    <tr>\n",
       "      <th>feeder_NY_01/NY_01_12262.glm</th>\n",
       "      <td>324.0</td>\n",
       "      <td>324.0</td>\n",
       "      <td>160.0</td>\n",
       "      <td>160.0</td>\n",
       "      <td>163.0</td>\n",
       "      <td>163.0</td>\n",
       "      <td>0.423</td>\n",
       "      <td>0.757</td>\n",
       "    </tr>\n",
       "    <tr>\n",
       "      <th>feeder_NY_01/NY_01_12268.glm</th>\n",
       "      <td>474.0</td>\n",
       "      <td>474.0</td>\n",
       "      <td>198.0</td>\n",
       "      <td>198.0</td>\n",
       "      <td>274.0</td>\n",
       "      <td>274.0</td>\n",
       "      <td>0.499</td>\n",
       "      <td>4.785</td>\n",
       "    </tr>\n",
       "    <tr>\n",
       "      <th>feeder_NY_01/NY_01_12272.glm</th>\n",
       "      <td>215.0</td>\n",
       "      <td>215.0</td>\n",
       "      <td>172.0</td>\n",
       "      <td>172.0</td>\n",
       "      <td>41.0</td>\n",
       "      <td>41.0</td>\n",
       "      <td>0.396</td>\n",
       "      <td>0.852</td>\n",
       "    </tr>\n",
       "    <tr>\n",
       "      <th>...</th>\n",
       "      <td>...</td>\n",
       "      <td>...</td>\n",
       "      <td>...</td>\n",
       "      <td>...</td>\n",
       "      <td>...</td>\n",
       "      <td>...</td>\n",
       "      <td>...</td>\n",
       "      <td>...</td>\n",
       "    </tr>\n",
       "    <tr>\n",
       "      <th>feeder_NY_38/NY_38_29557.glm</th>\n",
       "      <td>419.0</td>\n",
       "      <td>419.0</td>\n",
       "      <td>242.0</td>\n",
       "      <td>242.0</td>\n",
       "      <td>175.0</td>\n",
       "      <td>175.0</td>\n",
       "      <td>0.471</td>\n",
       "      <td>1.642</td>\n",
       "    </tr>\n",
       "    <tr>\n",
       "      <th>feeder_NY_38/NY_38_31637.glm</th>\n",
       "      <td>970.0</td>\n",
       "      <td>970.0</td>\n",
       "      <td>298.0</td>\n",
       "      <td>298.0</td>\n",
       "      <td>671.0</td>\n",
       "      <td>671.0</td>\n",
       "      <td>0.613</td>\n",
       "      <td>1.808</td>\n",
       "    </tr>\n",
       "    <tr>\n",
       "      <th>feeder_NY_38/NY_38_47851.glm</th>\n",
       "      <td>1113.0</td>\n",
       "      <td>1113.0</td>\n",
       "      <td>638.0</td>\n",
       "      <td>638.0</td>\n",
       "      <td>476.0</td>\n",
       "      <td>476.0</td>\n",
       "      <td>0.824</td>\n",
       "      <td>28.015</td>\n",
       "    </tr>\n",
       "    <tr>\n",
       "      <th>feeder_NY_39/NY_39_41557.glm</th>\n",
       "      <td>644.0</td>\n",
       "      <td>644.0</td>\n",
       "      <td>547.0</td>\n",
       "      <td>547.0</td>\n",
       "      <td>96.0</td>\n",
       "      <td>96.0</td>\n",
       "      <td>0.566</td>\n",
       "      <td>2.018</td>\n",
       "    </tr>\n",
       "    <tr>\n",
       "      <th>feeder_NY_40/NY_40_29395.glm</th>\n",
       "      <td>1535.0</td>\n",
       "      <td>1535.0</td>\n",
       "      <td>1199.0</td>\n",
       "      <td>1199.0</td>\n",
       "      <td>446.0</td>\n",
       "      <td>446.0</td>\n",
       "      <td>1.112</td>\n",
       "      <td>93.397</td>\n",
       "    </tr>\n",
       "  </tbody>\n",
       "</table>\n",
       "<p>476 rows × 8 columns</p>\n",
       "</div>"
      ],
      "text/plain": [
       "                             node_count         link_count         load_count  \\\n",
       "der_value                          0 kW   10 kW       0 kW   10 kW       0 kW   \n",
       "feeder                                                                          \n",
       "feeder_NY_01/NY_01_12161.glm      125.0   125.0      111.0   111.0       12.0   \n",
       "feeder_NY_01/NY_01_12261.glm     1147.0  1147.0      209.0   209.0      937.0   \n",
       "feeder_NY_01/NY_01_12262.glm      324.0   324.0      160.0   160.0      163.0   \n",
       "feeder_NY_01/NY_01_12268.glm      474.0   474.0      198.0   198.0      274.0   \n",
       "feeder_NY_01/NY_01_12272.glm      215.0   215.0      172.0   172.0       41.0   \n",
       "...                                 ...     ...        ...     ...        ...   \n",
       "feeder_NY_38/NY_38_29557.glm      419.0   419.0      242.0   242.0      175.0   \n",
       "feeder_NY_38/NY_38_31637.glm      970.0   970.0      298.0   298.0      671.0   \n",
       "feeder_NY_38/NY_38_47851.glm     1113.0  1113.0      638.0   638.0      476.0   \n",
       "feeder_NY_39/NY_39_41557.glm      644.0   644.0      547.0   547.0       96.0   \n",
       "feeder_NY_40/NY_40_29395.glm     1535.0  1535.0     1199.0  1199.0      446.0   \n",
       "\n",
       "                                    runtime          \n",
       "der_value                     10 kW    0 kW   10 kW  \n",
       "feeder                                               \n",
       "feeder_NY_01/NY_01_12161.glm   12.0   0.378   0.525  \n",
       "feeder_NY_01/NY_01_12261.glm  937.0   0.628   1.601  \n",
       "feeder_NY_01/NY_01_12262.glm  163.0   0.423   0.757  \n",
       "feeder_NY_01/NY_01_12268.glm  274.0   0.499   4.785  \n",
       "feeder_NY_01/NY_01_12272.glm   41.0   0.396   0.852  \n",
       "...                             ...     ...     ...  \n",
       "feeder_NY_38/NY_38_29557.glm  175.0   0.471   1.642  \n",
       "feeder_NY_38/NY_38_31637.glm  671.0   0.613   1.808  \n",
       "feeder_NY_38/NY_38_47851.glm  476.0   0.824  28.015  \n",
       "feeder_NY_39/NY_39_41557.glm   96.0   0.566   2.018  \n",
       "feeder_NY_40/NY_40_29395.glm  446.0   1.112  93.397  \n",
       "\n",
       "[476 rows x 8 columns]"
      ]
     },
     "execution_count": 38,
     "metadata": {},
     "output_type": "execute_result"
    }
   ],
   "source": [
    "data"
   ]
  },
  {
   "cell_type": "code",
   "execution_count": 80,
   "id": "b895d381",
   "metadata": {},
   "outputs": [
    {
     "data": {
      "image/png": "[encoded data removed]",
      "text/plain": [
       "<Figure size 576x360 with 1 Axes>"
      ]
     },
     "metadata": {
      "needs_background": "light"
     },
     "output_type": "display_data"
    }
   ],
   "source": [
    "import matplotlib.pyplot as plt\n",
    "import numpy\n",
    "plt.figure(figsize=(8,5))\n",
    "nmax = 9\n",
    "der_values = data.columns.get_level_values(1).unique()\n",
    "plt.hist(x = numpy.log2(data[\"runtime\"][der_values[1]]/data[\"runtime\"][der_values[0]]),\n",
    "         bins = range(nmax),\n",
    "         density = True)\n",
    "plt.xlabel(\"Runtime factor (per unit standard solution time)\")\n",
    "plt.ylabel(\"Probability density of runtimes observed\")\n",
    "plt.xticks(range(nmax),2**numpy.arange(nmax))\n",
    "plt.title(f\"Hosting capacity analysis runtime relative to standard solution ($N_{{feeders}}={len(data.index)}$)\")\n",
    "plt.grid()"
   ]
  },
  {
   "cell_type": "code",
   "execution_count": 79,
   "id": "fbd5533a",
   "metadata": {},
   "outputs": [
    {
     "data": {
      "image/png": "[encoded data removed]",
      "text/plain": [
       "<Figure size 360x216 with 1 Axes>"
      ]
     },
     "metadata": {
      "needs_background": "light"
     },
     "output_type": "display_data"
    }
   ],
   "source": [
    "plt.figure(figsize=(5,3))\n",
    "x = numpy.array(data[\"load_count\"][der_values[1]])\n",
    "y = numpy.array(data[\"node_count\"][der_values[1]])\n",
    "plt.plot(x,y,'.',label=\"Model complexity\")\n",
    "M = numpy.vstack([x]).transpose()\n",
    "fit = numpy.linalg.solve(M.transpose()@M,M.transpose()@y)\n",
    "n = numpy.arange(0,x.max(),x.max()/100)\n",
    "plt.plot(n,fit[0]*n,'-',label=f'$n={fit[0]:.2f}l$')\n",
    "plt.title(\"Model complexity\")\n",
    "plt.xlabel(\"Load count $l$ (x1000)\")\n",
    "plt.ylabel(\"Node count $n$ (x1000)\")\n",
    "plt.grid()\n",
    "plt.legend();"
   ]
  },
  {
   "cell_type": "code",
   "execution_count": 78,
   "id": "1063af66",
   "metadata": {},
   "outputs": [
    {
     "data": {
      "image/png": "[encoded data removed]",
      "text/plain": [
       "<Figure size 360x216 with 1 Axes>"
      ]
     },
     "metadata": {
      "needs_background": "light"
     },
     "output_type": "display_data"
    }
   ],
   "source": [
    "plt.figure(figsize=(5,3))\n",
    "plt.clf()\n",
    "x = numpy.array(data[\"link_count\"][der_values[1]])/1000\n",
    "y = numpy.array(data[\"runtime\"][der_values[1]])/60\n",
    "plt.plot(x,y,'.',label=\"Test data\")\n",
    "M = numpy.vstack([x,x**2]).transpose()\n",
    "fit = numpy.linalg.solve(M.transpose()@M,M.transpose()@y)\n",
    "b = numpy.arange(0,x.max(),x.max()/100)\n",
    "plt.plot(b,(b*fit[1]+fit[0])*b,'-',label=f'$t={fit[1]:.2f}b^2{fit[0]:+.2f}b$')\n",
    "plt.title(\"Model runtime\")\n",
    "plt.xlabel(\"Branch count $b$ (x1000)\")\n",
    "plt.ylabel(\"Runtime $t$ (m)\")\n",
    "plt.grid()\n",
    "plt.legend();"
   ]
  },
  {
   "cell_type": "code",
   "execution_count": null,
   "id": "e63d6c8b",
   "metadata": {},
   "outputs": [],
   "source": []
  }
 ],
 "metadata": {
  "kernelspec": {
   "display_name": "Python 3 (ipykernel)",
   "language": "python",
   "name": "python3"
  },
  "language_info": {
   "codemirror_mode": {
    "name": "ipython",
    "version": 3
   },
   "file_extension": ".py",
   "mimetype": "text/x-python",
   "name": "python",
   "nbconvert_exporter": "python",
   "pygments_lexer": "ipython3",
   "version": "3.9.10"
  }
 },
 "nbformat": 4,
 "nbformat_minor": 5
}
