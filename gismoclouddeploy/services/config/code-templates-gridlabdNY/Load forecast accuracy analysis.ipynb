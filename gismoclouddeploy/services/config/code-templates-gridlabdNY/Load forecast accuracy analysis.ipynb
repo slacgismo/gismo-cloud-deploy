{
 "cells": [
  {
   "cell_type": "code",
   "execution_count": 5,
   "id": "34ed33fb",
   "metadata": {},
   "outputs": [
    {
     "data": {
      "text/html": [
       "<div>\n",
       "<style scoped>\n",
       "    .dataframe tbody tr th:only-of-type {\n",
       "        vertical-align: middle;\n",
       "    }\n",
       "\n",
       "    .dataframe tbody tr th {\n",
       "        vertical-align: top;\n",
       "    }\n",
       "\n",
       "    .dataframe thead th {\n",
       "        text-align: right;\n",
       "    }\n",
       "</style>\n",
       "<table border=\"1\" class=\"dataframe\">\n",
       "  <thead>\n",
       "    <tr style=\"text-align: right;\">\n",
       "      <th></th>\n",
       "      <th>feeder</th>\n",
       "      <th>gwh21</th>\n",
       "      <th>gwh22</th>\n",
       "      <th>diff</th>\n",
       "    </tr>\n",
       "  </thead>\n",
       "  <tbody>\n",
       "    <tr>\n",
       "      <th>0</th>\n",
       "      <td>NY_01_12161</td>\n",
       "      <td>4.660870e+09</td>\n",
       "      <td>4.491650e+09</td>\n",
       "      <td>1.692200e+08</td>\n",
       "    </tr>\n",
       "    <tr>\n",
       "      <th>1</th>\n",
       "      <td>NY_01_12462</td>\n",
       "      <td>8.879630e+09</td>\n",
       "      <td>1.044510e+10</td>\n",
       "      <td>-1.565470e+09</td>\n",
       "    </tr>\n",
       "    <tr>\n",
       "      <th>2</th>\n",
       "      <td>NY_01_12463</td>\n",
       "      <td>3.676820e+09</td>\n",
       "      <td>2.472420e+09</td>\n",
       "      <td>1.204400e+09</td>\n",
       "    </tr>\n",
       "    <tr>\n",
       "      <th>3</th>\n",
       "      <td>NY_01_12464</td>\n",
       "      <td>7.582480e+09</td>\n",
       "      <td>7.580550e+09</td>\n",
       "      <td>1.930000e+06</td>\n",
       "    </tr>\n",
       "    <tr>\n",
       "      <th>4</th>\n",
       "      <td>NY_01_12465</td>\n",
       "      <td>3.118730e+09</td>\n",
       "      <td>2.730390e+09</td>\n",
       "      <td>3.883400e+08</td>\n",
       "    </tr>\n",
       "    <tr>\n",
       "      <th>...</th>\n",
       "      <td>...</td>\n",
       "      <td>...</td>\n",
       "      <td>...</td>\n",
       "      <td>...</td>\n",
       "    </tr>\n",
       "    <tr>\n",
       "      <th>1890</th>\n",
       "      <td>NY_41_38552</td>\n",
       "      <td>1.592980e+10</td>\n",
       "      <td>1.913350e+10</td>\n",
       "      <td>-3.203700e+09</td>\n",
       "    </tr>\n",
       "    <tr>\n",
       "      <th>1891</th>\n",
       "      <td>NY_41_41851</td>\n",
       "      <td>1.261540e+10</td>\n",
       "      <td>1.330290e+10</td>\n",
       "      <td>-6.875000e+08</td>\n",
       "    </tr>\n",
       "    <tr>\n",
       "      <th>1892</th>\n",
       "      <td>NY_41_41852</td>\n",
       "      <td>2.872500e+10</td>\n",
       "      <td>2.915350e+10</td>\n",
       "      <td>-4.285000e+08</td>\n",
       "    </tr>\n",
       "    <tr>\n",
       "      <th>1893</th>\n",
       "      <td>NY_41_41853</td>\n",
       "      <td>2.510080e+10</td>\n",
       "      <td>2.547750e+10</td>\n",
       "      <td>-3.767000e+08</td>\n",
       "    </tr>\n",
       "    <tr>\n",
       "      <th>1894</th>\n",
       "      <td>NY_41_42951</td>\n",
       "      <td>2.766690e+10</td>\n",
       "      <td>2.918890e+10</td>\n",
       "      <td>-1.522000e+09</td>\n",
       "    </tr>\n",
       "  </tbody>\n",
       "</table>\n",
       "<p>1895 rows × 4 columns</p>\n",
       "</div>"
      ],
      "text/plain": [
       "            feeder         gwh21         gwh22          diff\n",
       "0      NY_01_12161  4.660870e+09  4.491650e+09  1.692200e+08\n",
       "1      NY_01_12462  8.879630e+09  1.044510e+10 -1.565470e+09\n",
       "2      NY_01_12463  3.676820e+09  2.472420e+09  1.204400e+09\n",
       "3      NY_01_12464  7.582480e+09  7.580550e+09  1.930000e+06\n",
       "4      NY_01_12465  3.118730e+09  2.730390e+09  3.883400e+08\n",
       "...            ...           ...           ...           ...\n",
       "1890   NY_41_38552  1.592980e+10  1.913350e+10 -3.203700e+09\n",
       "1891   NY_41_41851  1.261540e+10  1.330290e+10 -6.875000e+08\n",
       "1892   NY_41_41852  2.872500e+10  2.915350e+10 -4.285000e+08\n",
       "1893   NY_41_41853  2.510080e+10  2.547750e+10 -3.767000e+08\n",
       "1894   NY_41_42951  2.766690e+10  2.918890e+10 -1.522000e+09\n",
       "\n",
       "[1895 rows x 4 columns]"
      ]
     },
     "execution_count": 5,
     "metadata": {},
     "output_type": "execute_result"
    }
   ],
   "source": [
    "import pandas\n",
    "data = pandas.read_csv(\"energy.csv\")\n",
    "data.columns = [\"feeder\",\"gwh21\",\"gwh22\",\"diff\"]\n",
    "data"
   ]
  },
  {
   "cell_type": "code",
   "execution_count": 32,
   "id": "883e322b",
   "metadata": {},
   "outputs": [
    {
     "data": {
      "image/png": "[encoded data removed]",
      "text/plain": [
       "<Figure size 864x504 with 1 Axes>"
      ]
     },
     "metadata": {
      "needs_background": "light"
     },
     "output_type": "display_data"
    }
   ],
   "source": [
    "import matplotlib.pyplot as plt\n",
    "import numpy\n",
    "x1 = data[\"gwh21\"]/1e9\n",
    "x2 = data[\"gwh22\"]/1e9\n",
    "plt.figure(figsize=(12,7))\n",
    "plt.hist([x1,x2], bins=numpy.arange(0,round(max(x2)+5,-1),10))\n",
    "plt.grid()\n",
    "plt.xlabel(\"Annual energy use (GWh)\")\n",
    "plt.ylabel(\"Number of feeders\")\n",
    "plt.title(\"Load forecast change\")\n",
    "plt.legend([\"2021\",\"2022\"]);"
   ]
  },
  {
   "cell_type": "code",
   "execution_count": 33,
   "id": "17b3857d",
   "metadata": {},
   "outputs": [
    {
     "data": {
      "image/png": "[encoded data removed]",
      "text/plain": [
       "<Figure size 504x288 with 1 Axes>"
      ]
     },
     "metadata": {
      "needs_background": "light"
     },
     "output_type": "display_data"
    }
   ],
   "source": [
    "plt.figure(figsize=(7,4))\n",
    "dx = x2-x1\n",
    "plt.hist(dx,bins=numpy.arange(min(dx),max(dx),5))\n",
    "plt.grid()\n",
    "plt.xlabel(\"Annual energy use change (GWh)\")\n",
    "plt.ylabel(\"Number of feeders\")\n",
    "plt.title(\"Load forecast change from 2021 to 2022\");"
   ]
  },
  {
   "cell_type": "code",
   "execution_count": null,
   "id": "b06536bc",
   "metadata": {},
   "outputs": [],
   "source": []
  }
 ],
 "metadata": {
  "kernelspec": {
   "display_name": "Python 3 (ipykernel)",
   "language": "python",
   "name": "python3"
  },
  "language_info": {
   "codemirror_mode": {
    "name": "ipython",
    "version": 3
   },
   "file_extension": ".py",
   "mimetype": "text/x-python",
   "name": "python",
   "nbconvert_exporter": "python",
   "pygments_lexer": "ipython3",
   "version": "3.9.6"
  }
 },
 "nbformat": 4,
 "nbformat_minor": 5
}
